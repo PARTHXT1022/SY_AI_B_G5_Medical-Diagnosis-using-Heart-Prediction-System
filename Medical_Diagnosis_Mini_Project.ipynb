{
  "nbformat": 4,
  "nbformat_minor": 0,
  "metadata": {
    "colab": {
      "name": "Medical_Diagnosis_Mini_Project.ipynb",
      "provenance": [],
      "collapsed_sections": [],
      "include_colab_link": true
    },
    "kernelspec": {
      "name": "python3",
      "display_name": "Python 3"
    },
    "language_info": {
      "name": "python"
    }
  },
  "cells": [
    {
      "cell_type": "markdown",
      "metadata": {
        "id": "view-in-github",
        "colab_type": "text"
      },
      "source": [
        "<a href=\"https://colab.research.google.com/github/PARTHXT1022/Medical-Diagnosis-for-Heart-Prediction-Systems/blob/main/Medical_Diagnosis_Mini_Project.ipynb\" target=\"_parent\"><img src=\"https://colab.research.google.com/assets/colab-badge.svg\" alt=\"Open In Colab\"/></a>"
      ]
    },
    {
      "cell_type": "markdown",
      "source": [
        "**Medical Diagnosis for the Heart using Prediction System**\n",
        "--------------------------------------------------------------------\n",
        "***What are the Heart Disease and Why do they occur?***\n",
        "____________________________________________________________________\n",
        "Heart disease describes a range of conditions that affect your heart. Diseases under the heart disease umbrella include blood vessel diseases, such as coronary artery disease, heart rhythm problems (arrhythmias) and heart defects you’re born with (congenital heart defects), among others.\n",
        "\n",
        "The term “heart disease” is often used interchangeably with the term “cardiovascular disease”. Cardiovascular disease generally refers to conditions that involve narrowed or blocked blood vessels that can lead to a heart attack, chest pain (angina) or stroke. Other heart conditions, such as those that affect your heart’s muscle, valves or rhythm, also are considered forms of heart disease.\n",
        "\n",
        "Heart disease is one of the biggest causes of morbidity and mortality among the population of the world. Prediction of cardiovascular disease is regarded as one of the most important subjects in the section of clinical data analysis. The amount of data in the healthcare industry is huge. Data mining turns the large collection of raw healthcare data into information that can help to make informed decisions and predictions.\n",
        "\n",
        "\n",
        "![medic.jpg](data:image/jpeg;base64,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)"
      ],
      "metadata": {
        "id": "__l_xHrbNOBc"
      }
    },
    {
      "cell_type": "code",
      "source": [
        "import pandas as pd\n",
        "\n",
        "# import warnings filter\n",
        "from warnings import simplefilter\n",
        "# ignore all future warnings\n",
        "simplefilter(action='ignore', category = FutureWarning)\n",
        "# import warnings filter\n",
        "from warnings import simplefilter\n",
        "# ignore all future warnings\n",
        "simplefilter(action='ignore', category = FutureWarning)"
      ],
      "metadata": {
        "id": "ycjxUqbYy46E"
      },
      "execution_count": null,
      "outputs": []
    },
    {
      "cell_type": "code",
      "source": [
        "df = pd.read_excel('heart.xlsx')"
      ],
      "metadata": {
        "id": "B7w2uAFXzC6r"
      },
      "execution_count": null,
      "outputs": []
    },
    {
      "cell_type": "markdown",
      "source": [
        "**Dataset information, describing its attributes and values** \n",
        "\n",
        "-------------------------------------------------------------------\n",
        "\n",
        "The dataset consists of 1026 individuals data. There are 14 columns in the dataset, which are described below:-\n",
        "\n",
        "***Age***: Displays the age of the individual.\n",
        "\n",
        "***Sex***: Displays the gender of the individual using the following format :\n",
        "  1 = male\n",
        "  0 = female\n",
        "\n",
        "***Chest-pain type***: displays the type of chest-pain experienced by the individual using the following format :\n",
        "  1 = typical angina\n",
        "  2 = atypical angina\n",
        "  3 = non — anginal pain\n",
        "  4 = asymptotic\n",
        "\n",
        "***Resting Blood Pressure***: displays the resting blood pressure value of an individual in mmHg (unit)\n",
        "\n",
        "***Serum Cholestrol***: displays the serum cholesterol in mg/dl (unit)\n",
        "Fasting Blood Sugar: compares the fasting blood sugar value of an individual with 120mg/dl.\n",
        "  If fasting blood sugar > 120mg/dl then : 1 (true)\n",
        "  else : 0 (false)\n",
        "\n",
        "***Resting ECG*** : displays resting electrocardiographic results\n",
        "  0 = normal\n",
        "  1 = having ST-T wave abnormality\n",
        "  2 = left ventricular hyperthrophy\n",
        "\n",
        "***Max heart rate achieved*** : displays the max heart rate achieved by an individual.\n",
        "  Exercise induced angina :\n",
        "  1 = yes\n",
        "  0 = no\n",
        "\n",
        "***ST depression induced by exercise relative to rest***: displays the value which is an integer or float.\n",
        "Peak exercise ST segment :\n",
        "  1 = upsloping\n",
        "  2 = flat\n",
        "  3 = downsloping\n",
        "\n",
        "***Number of major vessels (0–3) colored by flourosopy*** : displays the value as integer or float.\n",
        "\n",
        "***Thal*** : displays the thalassemia :\n",
        "  3 = normal\n",
        "  6 = fixed defect\n",
        "  7 = reversible defect\n",
        "\n",
        "Diagnosis of heart disease : Displays whether the individual is suffering from heart disease or not :\n",
        "  0 = absence\n",
        "  1, 2, 3, 4 = present."
      ],
      "metadata": {
        "id": "WiC3zpBzNboI"
      }
    },
    {
      "cell_type": "code",
      "source": [
        "df.columns = ['age', 'sex', 'cp', 'trestbps', 'chol',\n",
        "              'fbs', 'restecg', 'thalach', 'exang', \n",
        "              'oldpeak', 'slope', 'ca', 'thal', 'target']"
      ],
      "metadata": {
        "id": "rEYf4KtxzRQb"
      },
      "execution_count": null,
      "outputs": []
    },
    {
      "cell_type": "code",
      "source": [
        "print(df)"
      ],
      "metadata": {
        "colab": {
          "base_uri": "https://localhost:8080/"
        },
        "id": "d449EMPzcs-c",
        "outputId": "49cfff71-fd4f-4ba4-ec57-57dfa169b8c8"
      },
      "execution_count": null,
      "outputs": [
        {
          "output_type": "stream",
          "name": "stdout",
          "text": [
            "       age  sex   cp  trestbps   chol  fbs  restecg  thalach  exang  oldpeak  \\\n",
            "0     52.0  1.0  0.0     125.0  212.0  0.0      1.0    168.0    0.0      1.0   \n",
            "1     53.0  1.0  0.0     140.0  203.0  1.0      0.0    155.0    1.0      3.1   \n",
            "2     70.0  1.0  0.0     145.0  174.0  0.0      1.0    125.0    1.0      2.6   \n",
            "3     61.0  1.0  0.0     148.0  203.0  0.0      1.0    161.0    0.0      0.0   \n",
            "4     62.0  0.0  0.0     138.0  294.0  1.0      1.0    106.0    0.0      1.9   \n",
            "...    ...  ...  ...       ...    ...  ...      ...      ...    ...      ...   \n",
            "1020  59.0  1.0  1.0     140.0  221.0  0.0      1.0    164.0    1.0      0.0   \n",
            "1021  60.0  1.0  0.0     125.0  258.0  0.0      0.0    141.0    1.0      2.8   \n",
            "1022  47.0  1.0  0.0     110.0  275.0  0.0      0.0    118.0    1.0      1.0   \n",
            "1023  50.0  0.0  0.0     110.0  254.0  0.0      0.0    159.0    0.0      0.0   \n",
            "1024  54.0  1.0  0.0     120.0  188.0  0.0      1.0    113.0    0.0      1.4   \n",
            "\n",
            "      slope   ca  thal  target  \n",
            "0       2.0  2.0   3.0     0.0  \n",
            "1       0.0  0.0   3.0     0.0  \n",
            "2       0.0  0.0   3.0     0.0  \n",
            "3       2.0  1.0   3.0     0.0  \n",
            "4       1.0  3.0   2.0     0.0  \n",
            "...     ...  ...   ...     ...  \n",
            "1020    2.0  0.0   2.0     1.0  \n",
            "1021    1.0  1.0   3.0     0.0  \n",
            "1022    1.0  1.0   2.0     0.0  \n",
            "1023    2.0  0.0   2.0     1.0  \n",
            "1024    1.0  1.0   3.0     0.0  \n",
            "\n",
            "[1025 rows x 14 columns]\n"
          ]
        }
      ]
    },
    {
      "cell_type": "code",
      "source": [
        "df.isnull().sum()"
      ],
      "metadata": {
        "colab": {
          "base_uri": "https://localhost:8080/"
        },
        "id": "3J19gJ-9zUtr",
        "outputId": "0dc7812e-bd2e-4340-8eee-e2b12c07c4a9"
      },
      "execution_count": null,
      "outputs": [
        {
          "output_type": "execute_result",
          "data": {
            "text/plain": [
              "age         0\n",
              "sex         0\n",
              "cp          0\n",
              "trestbps    0\n",
              "chol        0\n",
              "fbs         0\n",
              "restecg     0\n",
              "thalach     0\n",
              "exang       0\n",
              "oldpeak     0\n",
              "slope       0\n",
              "ca          0\n",
              "thal        0\n",
              "target      0\n",
              "dtype: int64"
            ]
          },
          "metadata": {},
          "execution_count": 5
        }
      ]
    },
    {
      "cell_type": "code",
      "source": [
        "df['target'] = df.target.map({0: 0, 1: 1, 2: 1, 3: 1, 4: 1})\n",
        "df['sex'] = df.sex.map({0: 'female', 1: 'male'})\n",
        "df['thal'] = df.thal.fillna(df.thal.mean())\n",
        "df['ca'] = df.ca.fillna(df.ca.mean())"
      ],
      "metadata": {
        "id": "xLek6vgvzU0w"
      },
      "execution_count": null,
      "outputs": []
    },
    {
      "cell_type": "markdown",
      "source": [
        "Why these parameters:\n",
        "In the actual dataset, we had 76 features but for our study, we chose only the above 14 because :\n",
        "\n",
        "***Age***: Age is the most important risk factor in developing cardiovascular or heart diseases, with approximately a tripling of risk with each decade of life. Coronary fatty streaks can begin to form in adolescence. It is estimated that 82 percent of people who die of coronary heart disease are 65 and older. Simultaneously, the risk of stroke doubles every decade after age 55.\n",
        "\n",
        "***Sex***: Men are at greater risk of heart disease than pre-menopausal women. Once past menopause, it has been argued that a woman’s risk is similar to a man’s although more recent data from the WHO and UN disputes this. If a female has diabetes, she is more likely to develop heart disease than a male with diabetes.\n",
        "\n",
        "***Resting Blood Pressure***: Over time, high blood pressure can damage arteries that feed your heart. High blood pressure that occurs with other conditions, such as obesity, high cholesterol or diabetes, increases your risk even more.\n",
        "\n",
        "***Angina (Chest Pain)***: Angina is chest pain or discomfort caused when your heart muscle doesn’t get enough oxygen-rich blood. It may feel like pressure or squeezing in your chest. The discomfort also can occur in your shoulders, arms, neck, jaw, or back. Angina pain may even feel like indigestion.\n",
        "\n",
        "***Serum Cholesterol***: A high level of low-density lipoprotein (LDL) cholesterol (the “bad” cholesterol) is most likely to narrow arteries. A high level of triglycerides, a type of blood fat related to your diet, also ups your risk of a heart attack. However, a high level of high-density lipoprotein (HDL) cholesterol (the “good” cholesterol) lowers your risk of a heart attack.\n",
        "\n",
        "***Fasting Blood Sugar***: Not producing enough of a hormone secreted by your pancreas (insulin) or not responding to insulin properly causes your body’s blood sugar levels to rise, increasing your risk of a heart attack.\n",
        "\n",
        "***Resting ECG***: For people at low risk of cardiovascular disease, the USPSTF concludes with moderate certainty that the potential harms of screening with resting or exercise ECG equal or exceed the potential benefits. For people at intermediate to high risk, current evidence is insufficient to assess the balance of benefits and harms of screening.\n",
        "\n",
        "***Max heart rate achieved***: The increase in cardiovascular risk, associated with the acceleration of heart rate, was comparable to the increase in risk observed with high blood pressure. It has been shown that an increase in heart rate by 10 beats per minute was associated with an increase in the risk of cardiac death by at least 20%, and this increase in the risk is similar to the one observed with an increase in systolic blood pressure by 10 mm Hg.\n",
        "\n",
        "***Exercise induced angina***: The pain or discomfort associated with angina usually feels tight, gripping or squeezing, and can vary from mild to severe. Angina is usually felt in the center of your chest but may spread to either or both of your shoulders, or your back, neck, jaw or arm. It can even be felt in your hands. o Types of Angina a. Stable Angina / Angina Pectoris b. Unstable Angina c. Variant (Prinzmetal) Angina d. Microvascular Angina.\n",
        "\n",
        "***Peak exercise ST segment***: A treadmill ECG stress test is considered abnormal when there is a horizontal or down-sloping ST-segment depression ≥ 1 mm at 60–80 ms after the J point. Exercise ECGs with up-sloping ST-segment depressions are typically reported as an ‘equivocal’ test. In general, the occurrence of horizontal or down-sloping ST-segment depression at a lower workload (calculated in METs) or heart rate indicates a worse prognosis and higher likelihood of multi-vessel disease. The duration of ST-segment depression is also important, as prolonged recovery after peak stress is consistent with a positive treadmill ECG stress test. Another finding that is highly indicative of significant CAD is the occurrence of ST-segment elevation > 1 mm (often suggesting transmural ischemia); these patients are frequently referred urgently for coronary angiography."
      ],
      "metadata": {
        "id": "Fv4jx7GMObk0"
      }
    },
    {
      "cell_type": "code",
      "source": [
        "import matplotlib.pyplot as plt\n",
        "import seaborn as sns"
      ],
      "metadata": {
        "id": "uZlEmqDvckAB"
      },
      "execution_count": null,
      "outputs": []
    },
    {
      "cell_type": "code",
      "source": [
        "# distribution of target vs age \n",
        "sns.set_context(\"paper\", font_scale = 2, rc = {\"font.size\": 20,\"axes.titlesize\": 25,\"axes.labelsize\": 20}) \n",
        "sns.catplot(kind = 'count', data = df, x = 'age', hue = 'target', order = df['age'].sort_values().unique())\n",
        "plt.title('Variation of Age for each target class')\n",
        "plt.show()"
      ],
      "metadata": {
        "colab": {
          "base_uri": "https://localhost:8080/",
          "height": 373
        },
        "id": "jQtUk86Wcq_3",
        "outputId": "fa949d4b-224a-47fc-d6e4-c6231d8c9524"
      },
      "execution_count": null,
      "outputs": [
        {
          "output_type": "display_data",
          "data": {
            "text/plain": [
              "<Figure size 434.485x360 with 1 Axes>"
            ],
            "image/png": "[encoded data removed]"
          },
          "metadata": {
            "needs_background": "light"
          }
        }
      ]
    },
    {
      "cell_type": "markdown",
      "source": [
        "Here, target = 1 implies that the person is suffering from heart disease and target = 0 implies the person is not suffering."
      ],
      "metadata": {
        "id": "skIpiTBjPKOv"
      }
    },
    {
      "cell_type": "code",
      "source": [
        "# barplot of age vs sex with hue = target\n",
        "sns.catplot(kind = 'bar', data = df, y = 'age', x = 'sex', hue = 'target')\n",
        "plt.title('Distribution of age vs sex with the target class')\n",
        "plt.show()\n",
        "\n",
        "df['sex'] = df.sex.map({'female': 0, 'male': 1})"
      ],
      "metadata": {
        "colab": {
          "base_uri": "https://localhost:8080/",
          "height": 373
        },
        "id": "N25YfwmNcuWX",
        "outputId": "29ff9c8d-ee54-42e2-e735-9490f5a0af93"
      },
      "execution_count": null,
      "outputs": [
        {
          "output_type": "display_data",
          "data": {
            "text/plain": [
              "<Figure size 434.485x360 with 1 Axes>"
            ],
            "image/png": "[encoded data removed]"
          },
          "metadata": {
            "needs_background": "light"
          }
        }
      ]
    },
    {
      "cell_type": "markdown",
      "source": [
        "Data Preprocessing"
      ],
      "metadata": {
        "id": "fh1q6vQlc3OP"
      }
    },
    {
      "cell_type": "code",
      "source": [
        "X = df.iloc[:, :-1].values\n",
        "y = df.iloc[:, -1].values"
      ],
      "metadata": {
        "id": "T06IrmCWc54P"
      },
      "execution_count": null,
      "outputs": []
    },
    {
      "cell_type": "code",
      "source": [
        "from sklearn.model_selection import train_test_split\n",
        "X_train, X_test, y_train, y_test = train_test_split(X, y, test_size = 0.2, random_state = 0)"
      ],
      "metadata": {
        "id": "RDLXj9s9dAlb"
      },
      "execution_count": null,
      "outputs": []
    },
    {
      "cell_type": "code",
      "source": [
        "from sklearn.preprocessing import StandardScaler as ss\n",
        "sc = ss()\n",
        "X_train = sc.fit_transform(X_train)\n",
        "X_test = sc.transform(X_test)"
      ],
      "metadata": {
        "id": "A78hESz8dHwO"
      },
      "execution_count": null,
      "outputs": []
    },
    {
      "cell_type": "markdown",
      "source": [
        "***Simple Vector Machines(SVM) Algorithm***\n",
        "\n",
        "Support vector machines (SVMs) are a set of supervised learning methods used for classification, regression and outliers detection. The advantages of support vector machines are: Effective in high dimensional spaces. Still effective in cases where number of dimensions is greater than the number of samples.\n",
        "\n",
        "Well SVM it capable of doing both classification and regression. In this post I'll focus on using SVM for classification. In particular I'll be focusing on non-linear SVM, or SVM using a non-linear kernel. Non-linear SVM means that the boundary that the algorithm calculates doesn't have to be a straight line. The benefit is that you can capture much more complex relationships between your datapoints without having to perform difficult transformations on your own. The downside is that the training time is much longer as it's much more computationally intensive.\n",
        "\n",
        "![svm.jpg](data:image/jpeg;base64,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)"
      ],
      "metadata": {
        "id": "yIBblJZ8dLvW"
      }
    },
    {
      "cell_type": "code",
      "source": [
        "from sklearn.svm import SVC\n",
        "classifier = SVC(kernel = 'rbf')\n",
        "classifier.fit(X_train, y_train)"
      ],
      "metadata": {
        "colab": {
          "base_uri": "https://localhost:8080/"
        },
        "id": "0XvD0j-WdP4D",
        "outputId": "f979d63c-17d5-403c-b48e-9a5c0524669a"
      },
      "execution_count": null,
      "outputs": [
        {
          "output_type": "execute_result",
          "data": {
            "text/plain": [
              "SVC()"
            ]
          },
          "metadata": {},
          "execution_count": 14
        }
      ]
    },
    {
      "cell_type": "code",
      "source": [
        "# Predicting the Test set results\n",
        "y_pred = classifier.predict(X_test)"
      ],
      "metadata": {
        "id": "N7BCulnCdYqg"
      },
      "execution_count": null,
      "outputs": []
    },
    {
      "cell_type": "code",
      "source": [
        "from sklearn.metrics import confusion_matrix\n",
        "cm_test = confusion_matrix(y_pred, y_test)"
      ],
      "metadata": {
        "id": "MkTw8BlfdcTD"
      },
      "execution_count": null,
      "outputs": []
    },
    {
      "cell_type": "code",
      "source": [
        "\n",
        "y_pred_train = classifier.predict(X_train)\n",
        "cm_train = confusion_matrix(y_pred_train, y_train)\n",
        "\n",
        "print()\n",
        "print('Accuracy for training set for svm = {}'.format((cm_train[0][0] + cm_train[1][1])/len(y_train)))\n",
        "print('Accuracy for test set for svm = {}'.format((cm_test[0][0] + cm_test[1][1])/len(y_test)))"
      ],
      "metadata": {
        "colab": {
          "base_uri": "https://localhost:8080/"
        },
        "id": "H3132EZ4diFe",
        "outputId": "be269e56-c7f9-4e3c-f33b-7c31dd2c31b5"
      },
      "execution_count": null,
      "outputs": [
        {
          "output_type": "stream",
          "name": "stdout",
          "text": [
            "\n",
            "Accuracy for training set for svm = 0.948780487804878\n",
            "Accuracy for test set for svm = 0.9658536585365853\n"
          ]
        }
      ]
    },
    {
      "cell_type": "markdown",
      "source": [
        "***Naive Bayes Algorithm***\n",
        "\n",
        "Naïve Bayes algorithm is a supervised learning algorithm, which is based on Bayes theorem and used for solving classification problems.\n",
        "It is mainly used in text classification that includes a high-dimensional training dataset.\n",
        "Naïve Bayes Classifier is one of the simple and most effective Classification algorithms which helps in building the fast machine learning models that can make quick predictions.\n",
        "It is a probabilistic classifier, which means it predicts on the basis of the probability of an object.\n",
        "Some popular examples of Naïve Bayes Algorithm are spam filtration, Sentimental analysis, and classifying articles.\n",
        "\n",
        "***Why is it called Naive Bayes Algorithm - *** \n",
        "\n",
        "The Naïve Bayes algorithm is comprised of two words Naïve and Bayes, Which can be described as:\n",
        "\n",
        "***Naïve:*** It is called Naïve because it assumes that the occurrence of a certain feature is independent of the occurrence of other features. Such as if the fruit is identified on the bases of color, shape, and taste, then red, spherical, and sweet fruit is recognized as an apple. Hence each feature individually contributes to identify that it is an apple without depending on each other.\n",
        "\n",
        "***Bayes:*** It is called Bayes because it depends on the principle of Bayes' Theorem\n",
        "\n",
        "![naive bayes.png](data:image/png;base64,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)"
      ],
      "metadata": {
        "id": "bNsY5g6GdmTl"
      }
    },
    {
      "cell_type": "code",
      "source": [
        "X = df.iloc[:, :-1].values\n",
        "y = df.iloc[:, -1].values"
      ],
      "metadata": {
        "id": "zwYAOuUbdptH"
      },
      "execution_count": null,
      "outputs": []
    },
    {
      "cell_type": "code",
      "source": [
        "from sklearn.model_selection import train_test_split\n",
        "X_train, X_test, y_train, y_test = train_test_split(X, y, test_size = 0.2, random_state = 0)"
      ],
      "metadata": {
        "id": "YkGR2kVjd678"
      },
      "execution_count": null,
      "outputs": []
    },
    {
      "cell_type": "code",
      "source": [
        "from sklearn.naive_bayes import GaussianNB\n",
        "classifier = GaussianNB()\n",
        "classifier.fit(X_train, y_train)"
      ],
      "metadata": {
        "colab": {
          "base_uri": "https://localhost:8080/"
        },
        "id": "M9e4VVD2d9uy",
        "outputId": "997c411e-fe10-4870-95c4-7093321d6db2"
      },
      "execution_count": null,
      "outputs": [
        {
          "output_type": "execute_result",
          "data": {
            "text/plain": [
              "GaussianNB()"
            ]
          },
          "metadata": {},
          "execution_count": 20
        }
      ]
    },
    {
      "cell_type": "code",
      "source": [
        "# Predicting the Test set results\n",
        "y_pred = classifier.predict(X_test)"
      ],
      "metadata": {
        "id": "t1HgCQHCeAvC"
      },
      "execution_count": null,
      "outputs": []
    },
    {
      "cell_type": "code",
      "source": [
        "from sklearn.metrics import confusion_matrix\n",
        "cm_test = confusion_matrix(y_pred, y_test)"
      ],
      "metadata": {
        "id": "elhtQQv-eGj5"
      },
      "execution_count": null,
      "outputs": []
    },
    {
      "cell_type": "code",
      "source": [
        "y_pred_train = classifier.predict(X_train)\n",
        "cm_train = confusion_matrix(y_pred_train, y_train)\n",
        "print()\n",
        "print('Accuracy for training set for Naive Bayes = {}'.format((cm_train[0][0] + cm_train[1][1])/len(y_train)))\n",
        "print('Accuracy for test set for Naive Bayes = {}'.format((cm_test[0][0] + cm_test[1][1])/len(y_test)))"
      ],
      "metadata": {
        "colab": {
          "base_uri": "https://localhost:8080/"
        },
        "id": "YLtu8wMreJNp",
        "outputId": "0ee963b8-d9a9-4d3b-b18c-c90543b03666"
      },
      "execution_count": null,
      "outputs": [
        {
          "output_type": "stream",
          "name": "stdout",
          "text": [
            "\n",
            "Accuracy for training set for Naive Bayes = 0.8207317073170731\n",
            "Accuracy for test set for Naive Bayes = 0.8536585365853658\n"
          ]
        }
      ]
    },
    {
      "cell_type": "markdown",
      "source": [
        "***Logistic Regression for Machine Learning***\n",
        "\n",
        "Logistic regression is one of the most popular Machine Learning algorithms, which comes under the Supervised Learning technique. It is used for predicting the categorical dependent variable using a given set of independent variables.\n",
        "Logistic regression predicts the output of a categorical dependent variable. Therefore the outcome must be a categorical or discrete value. It can be either Yes or No, 0 or 1, true or False, etc. but instead of giving the exact value as 0 and 1, it gives the probabilistic values which lie between 0 and 1.\n",
        "Logistic Regression is much similar to the Linear Regression except that how they are used. Linear Regression is used for solving Regression problems, whereas Logistic regression is used for solving the classification problems.\n",
        "In Logistic regression, instead of fitting a regression line, we fit an \"S\" shaped logistic function, which predicts two maximum values (0 or 1).\n",
        "\n",
        "![logistic regression.png](data:image/png;base64,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)\n",
        "\n"
      ],
      "metadata": {
        "id": "sGBbTouBeenb"
      }
    },
    {
      "cell_type": "code",
      "source": [
        "X = df.iloc[:, :-1].values\n",
        "y = df.iloc[:, -1].values                      "
      ],
      "metadata": {
        "id": "YmuqAs2g8nNH"
      },
      "execution_count": null,
      "outputs": []
    },
    {
      "cell_type": "code",
      "source": [
        "from sklearn.model_selection import train_test_split\n",
        "X_train, X_test, y_train, y_test = train_test_split(X, y, test_size = 0.2, random_state = 0)"
      ],
      "metadata": {
        "id": "Ou3Z0-RY9J6O"
      },
      "execution_count": null,
      "outputs": []
    },
    {
      "cell_type": "code",
      "source": [
        "from sklearn.linear_model import LogisticRegression\n",
        "classifier = LogisticRegression()\n",
        "classifier.fit(X_train, y_train)"
      ],
      "metadata": {
        "colab": {
          "base_uri": "https://localhost:8080/"
        },
        "id": "EVMp3PZ19apl",
        "outputId": "a9f2b07a-8ff0-4e63-9f0b-78923e07cac2"
      },
      "execution_count": null,
      "outputs": [
        {
          "output_type": "stream",
          "name": "stderr",
          "text": [
            "/usr/local/lib/python3.7/dist-packages/sklearn/linear_model/_logistic.py:818: ConvergenceWarning: lbfgs failed to converge (status=1):\n",
            "STOP: TOTAL NO. of ITERATIONS REACHED LIMIT.\n",
            "\n",
            "Increase the number of iterations (max_iter) or scale the data as shown in:\n",
            "    https://scikit-learn.org/stable/modules/preprocessing.html\n",
            "Please also refer to the documentation for alternative solver options:\n",
            "    https://scikit-learn.org/stable/modules/linear_model.html#logistic-regression\n",
            "  extra_warning_msg=_LOGISTIC_SOLVER_CONVERGENCE_MSG,\n"
          ]
        },
        {
          "output_type": "execute_result",
          "data": {
            "text/plain": [
              "LogisticRegression()"
            ]
          },
          "metadata": {},
          "execution_count": 26
        }
      ]
    },
    {
      "cell_type": "code",
      "source": [
        "# Predicting the Test set results\n",
        "y_pred = classifier.predict(X_test)\n",
        "\n",
        "from sklearn.metrics import confusion_matrix\n",
        "cm_test = confusion_matrix(y_pred, y_test)"
      ],
      "metadata": {
        "id": "VclpIov79dHN"
      },
      "execution_count": null,
      "outputs": []
    },
    {
      "cell_type": "code",
      "source": [
        "y_pred_train = classifier.predict(X_train)\n",
        "cm_train = confusion_matrix(y_pred_train, y_train)\n",
        "\n",
        "print()\n",
        "print('Accuracy for training set for Logistic Regression = {}'.format((cm_train[0][0] + cm_train[1][1])/len(y_train)))\n",
        "print('Accuracy for test set for Logistic Regression = {}'.format((cm_test[0][0] + cm_test[1][1])/len(y_test)))"
      ],
      "metadata": {
        "colab": {
          "base_uri": "https://localhost:8080/"
        },
        "id": "zkvMWkNr9gd3",
        "outputId": "4d784957-f884-4638-b778-7b0e6967c67b"
      },
      "execution_count": null,
      "outputs": [
        {
          "output_type": "stream",
          "name": "stdout",
          "text": [
            "\n",
            "Accuracy for training set for Logistic Regression = 0.8621951219512195\n",
            "Accuracy for test set for Logistic Regression = 0.8634146341463415\n"
          ]
        }
      ]
    },
    {
      "cell_type": "markdown",
      "source": [
        "***Random Forest***\n",
        "\n",
        "A random forest is a machine learning technique that's used to solve regression and classification problems. It utilizes ensemble learning, which is a technique that combines many classifiers to provide solutions to complex problems. A random forest algorithm consists of many decision trees.\n",
        "The ‘forest’ generated by the random forest algorithm is trained through bagging or bootstrap aggregating. Bagging is an ensemble meta-algorithm that improves the accuracy of machine learning algorithms.\n",
        "\n",
        "Random Forest helps in two essemble the two types - \n",
        "1. Bagging– It creates a different training subset from sample training data with replacement & the final output is based on majority voting. For example,  Random Forest.\n",
        "\n",
        "2. Boosting– It combines weak learners into strong learners by creating sequential models such that the final model has the highest accuracy. For example,  ADA BOOST, XG BOOST\n",
        "\n",
        "![Random Forest.jpg](data:image/jpeg;base64,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)\n"
      ],
      "metadata": {
        "id": "CT8_ORgtPo6w"
      }
    },
    {
      "cell_type": "code",
      "source": [
        "X = df.iloc[:, :-1].values\n",
        "y = df.iloc[:, -1].values"
      ],
      "metadata": {
        "id": "PO1MR_H1uDQc"
      },
      "execution_count": null,
      "outputs": []
    },
    {
      "cell_type": "code",
      "source": [
        "from sklearn.model_selection import train_test_split\n",
        "X_train, X_test, y_train, y_test = train_test_split(X, y, test_size = 0.2, random_state = 0)"
      ],
      "metadata": {
        "id": "bEkdILF0uJqk"
      },
      "execution_count": null,
      "outputs": []
    },
    {
      "cell_type": "code",
      "source": [
        "from sklearn.ensemble import RandomForestClassifier\n",
        "classifier = RandomForestClassifier(n_estimators = 10)\n",
        "classifier.fit(X_train, y_train)"
      ],
      "metadata": {
        "colab": {
          "base_uri": "https://localhost:8080/"
        },
        "id": "o19KaAbHuNC-",
        "outputId": "1395cf3f-ef92-457e-e2c8-89040e6f7df8"
      },
      "execution_count": null,
      "outputs": [
        {
          "output_type": "execute_result",
          "data": {
            "text/plain": [
              "RandomForestClassifier(n_estimators=10)"
            ]
          },
          "metadata": {},
          "execution_count": 33
        }
      ]
    },
    {
      "cell_type": "code",
      "source": [
        "y_pred = classifier.predict(X_test)\n",
        "\n",
        "from sklearn.metrics import confusion_matrix\n",
        "cm_test = confusion_matrix(y_pred, y_test)"
      ],
      "metadata": {
        "id": "HMsD4rPQuRye"
      },
      "execution_count": null,
      "outputs": []
    },
    {
      "cell_type": "code",
      "source": [
        "y_pred_train = classifier.predict(X_train)\n",
        "cm_train = confusion_matrix(y_pred_train, y_train)"
      ],
      "metadata": {
        "id": "MmTg-Cv6uV7j"
      },
      "execution_count": null,
      "outputs": []
    },
    {
      "cell_type": "code",
      "source": [
        "print()\n",
        "print('Accuracy for training set for Random Forest = {}'.format((cm_train[0][0] + cm_train[1][1])/len(y_train)))\n",
        "print('Accuracy for test set for Random Forest = {}'.format((cm_test[0][0] + cm_test[1][1])/len(y_test)))"
      ],
      "metadata": {
        "colab": {
          "base_uri": "https://localhost:8080/"
        },
        "id": "b_pcmyNquYWN",
        "outputId": "3dc26ebc-55e4-4df0-d53e-04d23a09d321"
      },
      "execution_count": null,
      "outputs": [
        {
          "output_type": "stream",
          "name": "stdout",
          "text": [
            "\n",
            "Accuracy for training set for Random Forest = 1.0\n",
            "Accuracy for test set for Random Forest = 1.0\n"
          ]
        }
      ]
    },
    {
      "cell_type": "markdown",
      "source": [
        "**Thus looking at the given method we can check and then predict the cardiovascular disease using multiple regression and the classification problems**\n",
        "\n",
        "\n",
        "**Thankyou !!!**"
      ],
      "metadata": {
        "id": "U5IU7K4uft9l"
      }
    }
  ]
}